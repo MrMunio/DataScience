{
 "cells": [
  {
   "cell_type": "markdown",
   "metadata": {},
   "source": [
    "# Movie recommendation system based on collaborative filtering using Pandas"
   ]
  },
  {
   "cell_type": "markdown",
   "metadata": {},
   "source": [
    "## Import necessary Dataset and Python libraries"
   ]
  },
  {
   "cell_type": "markdown",
   "metadata": {},
   "source": [
    "Datasets are collected from official movielens (http://movielens.org) website.  \n",
    "Downoad link:  \n",
    "https://files.grouplens.org/datasets/movielens/ml-25m.zip"
   ]
  },
  {
   "cell_type": "code",
   "execution_count": 1,
   "metadata": {},
   "outputs": [
    {
     "name": "stdout",
     "output_type": "stream",
     "text": [
      "File downloaded and saved as dataset\\ml-25m.zip\n"
     ]
    }
   ],
   "source": [
    "# run the following code to download the dataset if not already downloaded\n",
    "\n",
    "import os\n",
    "import requests\n",
    "os.chdir(\"..\") # Navigate to parent directory\n",
    "\n",
    "# Define the URL and the target directory\n",
    "url = \"https://files.grouplens.org/datasets/movielens/ml-25m.zip\"\n",
    "directory = \"dataset\"\n",
    "filename = os.path.join(directory, \"ml-25m.zip\")\n",
    "\n",
    "# Create the directory if it doesn't exist\n",
    "if not os.path.exists(directory):\n",
    "    os.makedirs(directory)\n",
    "\n",
    "# Download the file\n",
    "response = requests.get(url, stream=True)\n",
    "if response.status_code == 200:\n",
    "    with open(filename, 'wb') as f:\n",
    "        for chunk in response.iter_content(chunk_size=1024):\n",
    "            if chunk:\n",
    "                f.write(chunk)\n",
    "    print(f\"File downloaded and saved as {filename}\")\n",
    "else:\n",
    "    print(\"Failed to download the file\")\n"
   ]
  },
  {
   "cell_type": "code",
   "execution_count": 2,
   "metadata": {},
   "outputs": [
    {
     "name": "stdout",
     "output_type": "stream",
     "text": [
      "Extracted movies.csv and ratings.csv to dataset\n",
      "Deleted the subdirectory: dataset\\ml-25m\n"
     ]
    }
   ],
   "source": [
    "# Extract the zip file and ready the datasets\n",
    "\n",
    "import zipfile\n",
    "import shutil\n",
    "zip_filename = os.path.join(directory, \"ml-25m.zip\")\n",
    "\n",
    "with zipfile.ZipFile(zip_filename, 'r') as zip_ref:\n",
    "    for file in ['ml-25m/movies.csv', 'ml-25m/ratings.csv']:\n",
    "        # Extract the file to the directory, maintaining the directory structure\n",
    "        zip_ref.extract(file, directory)\n",
    "        # Move the extracted file to the main dataset directory and remove the subdirectory\n",
    "        extracted_path = os.path.join(directory, file)\n",
    "        final_path = os.path.join(directory, os.path.basename(file))\n",
    "        shutil.move(extracted_path, final_path)  # Use shutil.move to overwrite existing files\n",
    "    print(f\"Extracted movies.csv and ratings.csv to {directory}\")\n",
    "\n",
    "# Delete the zip file\n",
    "# os.remove(zip_filename)\n",
    "# print(f\"Deleted the zip file: {zip_filename}\")\n",
    "\n",
    "# Delete the ml-25m subdirectory\n",
    "shutil.rmtree(os.path.join(directory, 'ml-25m'))\n",
    "print(f\"Deleted the subdirectory: {os.path.join(directory, 'ml-25m')}\")"
   ]
  },
  {
   "cell_type": "code",
   "execution_count": 15,
   "metadata": {},
   "outputs": [],
   "source": [
    "import numpy as np\n",
    "import pandas as pd\n",
    "import os\n",
    "\n",
    "\n",
    "# Load datasets\n",
    "movies_df = pd.read_csv(\"dataset\\movies.csv\")\n",
    "ratings_df = pd.read_csv(\"dataset\\\\ratings.csv\")\n"
   ]
  },
  {
   "cell_type": "code",
   "execution_count": null,
   "metadata": {},
   "outputs": [],
   "source": []
  },
  {
   "cell_type": "markdown",
   "metadata": {},
   "source": [
    "## Designing a Search Engine to find Move titles and its IDs"
   ]
  },
  {
   "cell_type": "code",
   "execution_count": 16,
   "metadata": {},
   "outputs": [
    {
     "data": {
      "text/html": [
       "<div>\n",
       "<style scoped>\n",
       "    .dataframe tbody tr th:only-of-type {\n",
       "        vertical-align: middle;\n",
       "    }\n",
       "\n",
       "    .dataframe tbody tr th {\n",
       "        vertical-align: top;\n",
       "    }\n",
       "\n",
       "    .dataframe thead th {\n",
       "        text-align: right;\n",
       "    }\n",
       "</style>\n",
       "<table border=\"1\" class=\"dataframe\">\n",
       "  <thead>\n",
       "    <tr style=\"text-align: right;\">\n",
       "      <th></th>\n",
       "      <th>movieId</th>\n",
       "      <th>title</th>\n",
       "      <th>genres</th>\n",
       "    </tr>\n",
       "  </thead>\n",
       "  <tbody>\n",
       "    <tr>\n",
       "      <th>0</th>\n",
       "      <td>1</td>\n",
       "      <td>Toy Story (1995)</td>\n",
       "      <td>Adventure|Animation|Children|Comedy|Fantasy</td>\n",
       "    </tr>\n",
       "  </tbody>\n",
       "</table>\n",
       "</div>"
      ],
      "text/plain": [
       "   movieId             title                                       genres\n",
       "0        1  Toy Story (1995)  Adventure|Animation|Children|Comedy|Fantasy"
      ]
     },
     "execution_count": 16,
     "metadata": {},
     "output_type": "execute_result"
    }
   ],
   "source": [
    "movies_df.head(1)"
   ]
  },
  {
   "cell_type": "markdown",
   "metadata": {},
   "source": [
    "### Cleaning the titles with REGEX"
   ]
  },
  {
   "cell_type": "code",
   "execution_count": 17,
   "metadata": {},
   "outputs": [],
   "source": [
    "import re\n",
    "\n",
    "def clean_title(title):\n",
    "    return re.sub(\"[^a-zA-Z0-9 ]\",\"\",title)\n",
    "\n",
    "movies_df[\"title_clean\"] = movies_df.title.apply(clean_title)"
   ]
  },
  {
   "cell_type": "code",
   "execution_count": 18,
   "metadata": {},
   "outputs": [
    {
     "data": {
      "text/plain": [
       "0            Toy Story 1995\n",
       "1              Jumanji 1995\n",
       "2     Grumpier Old Men 1995\n",
       "3    Waiting to Exhale 1995\n",
       "Name: title_clean, dtype: object"
      ]
     },
     "execution_count": 18,
     "metadata": {},
     "output_type": "execute_result"
    }
   ],
   "source": [
    "movies_df.title_clean.head(4)"
   ]
  },
  {
   "cell_type": "markdown",
   "metadata": {},
   "source": [
    "### Constructing a TF IDF matrix from cleaned titles"
   ]
  },
  {
   "cell_type": "code",
   "execution_count": 19,
   "metadata": {},
   "outputs": [],
   "source": [
    "from sklearn.feature_extraction.text import TfidfVectorizer\n",
    "\n",
    "# Initialize the TfidfVectorizer\n",
    "tfidf_vectorizer = TfidfVectorizer(ngram_range=(1, 2))\n",
    "\n",
    "# Fit-transform the vectorizer to the title_clean column\n",
    "titles_vector = tfidf_vectorizer.fit_transform(movies_df['title_clean'])"
   ]
  },
  {
   "cell_type": "markdown",
   "metadata": {},
   "source": [
    "### Create a Search function using Cosine Similarity"
   ]
  },
  {
   "cell_type": "code",
   "execution_count": 20,
   "metadata": {},
   "outputs": [],
   "source": [
    "# design a search function that fetches out best matched movie title to our search query title.\n",
    "from sklearn.metrics.pairwise import cosine_similarity\n",
    "def search_movie(title_query):\n",
    "    title_query = clean_title(title_query)\n",
    "    title_query_vector = tfidf_vectorizer.transform([title_query])\n",
    "    similarity = cosine_similarity(titles_vector,title_query_vector).flatten()\n",
    "    indices = np.argpartition(similarity,-1)[-1:] #fetches indices of coresponding top 5 highest valued elements\n",
    "    results = movies_df.iloc[indices][[\"movieId\",\"title\",\"genres\"]]\n",
    "    return results"
   ]
  },
  {
   "cell_type": "code",
   "execution_count": 21,
   "metadata": {},
   "outputs": [
    {
     "data": {
      "text/html": [
       "<div>\n",
       "<style scoped>\n",
       "    .dataframe tbody tr th:only-of-type {\n",
       "        vertical-align: middle;\n",
       "    }\n",
       "\n",
       "    .dataframe tbody tr th {\n",
       "        vertical-align: top;\n",
       "    }\n",
       "\n",
       "    .dataframe thead th {\n",
       "        text-align: right;\n",
       "    }\n",
       "</style>\n",
       "<table border=\"1\" class=\"dataframe\">\n",
       "  <thead>\n",
       "    <tr style=\"text-align: right;\">\n",
       "      <th></th>\n",
       "      <th>movieId</th>\n",
       "      <th>title</th>\n",
       "      <th>genres</th>\n",
       "    </tr>\n",
       "  </thead>\n",
       "  <tbody>\n",
       "    <tr>\n",
       "      <th>10234</th>\n",
       "      <td>37380</td>\n",
       "      <td>Doom (2005)</td>\n",
       "      <td>Action|Horror|Sci-Fi</td>\n",
       "    </tr>\n",
       "  </tbody>\n",
       "</table>\n",
       "</div>"
      ],
      "text/plain": [
       "       movieId        title                genres\n",
       "10234    37380  Doom (2005)  Action|Horror|Sci-Fi"
      ]
     },
     "execution_count": 21,
     "metadata": {},
     "output_type": "execute_result"
    }
   ],
   "source": [
    "search_movie(\"doom\")"
   ]
  },
  {
   "cell_type": "markdown",
   "metadata": {},
   "source": [
    "## Designing Recomendation System based on similar users ratings"
   ]
  },
  {
   "cell_type": "code",
   "execution_count": 22,
   "metadata": {},
   "outputs": [
    {
     "data": {
      "text/html": [
       "<div>\n",
       "<style scoped>\n",
       "    .dataframe tbody tr th:only-of-type {\n",
       "        vertical-align: middle;\n",
       "    }\n",
       "\n",
       "    .dataframe tbody tr th {\n",
       "        vertical-align: top;\n",
       "    }\n",
       "\n",
       "    .dataframe thead th {\n",
       "        text-align: right;\n",
       "    }\n",
       "</style>\n",
       "<table border=\"1\" class=\"dataframe\">\n",
       "  <thead>\n",
       "    <tr style=\"text-align: right;\">\n",
       "      <th></th>\n",
       "      <th>userId</th>\n",
       "      <th>movieId</th>\n",
       "      <th>rating</th>\n",
       "      <th>timestamp</th>\n",
       "    </tr>\n",
       "  </thead>\n",
       "  <tbody>\n",
       "    <tr>\n",
       "      <th>0</th>\n",
       "      <td>1</td>\n",
       "      <td>296</td>\n",
       "      <td>5.0</td>\n",
       "      <td>1147880044</td>\n",
       "    </tr>\n",
       "    <tr>\n",
       "      <th>1</th>\n",
       "      <td>1</td>\n",
       "      <td>306</td>\n",
       "      <td>3.5</td>\n",
       "      <td>1147868817</td>\n",
       "    </tr>\n",
       "  </tbody>\n",
       "</table>\n",
       "</div>"
      ],
      "text/plain": [
       "   userId  movieId  rating   timestamp\n",
       "0       1      296     5.0  1147880044\n",
       "1       1      306     3.5  1147868817"
      ]
     },
     "execution_count": 22,
     "metadata": {},
     "output_type": "execute_result"
    }
   ],
   "source": [
    "ratings_df.head(2)"
   ]
  },
  {
   "cell_type": "code",
   "execution_count": 23,
   "metadata": {},
   "outputs": [
    {
     "data": {
      "text/plain": [
       "array([5. , 3.5, 4. , 2.5, 4.5, 3. , 0.5, 2. , 1. , 1.5])"
      ]
     },
     "execution_count": 23,
     "metadata": {},
     "output_type": "execute_result"
    }
   ],
   "source": [
    "ratings_df.rating.unique()"
   ]
  },
  {
   "cell_type": "code",
   "execution_count": 24,
   "metadata": {},
   "outputs": [
    {
     "data": {
      "text/plain": [
       "movieId\n",
       "1      1.000000\n",
       "318    0.549604\n",
       "260    0.531518\n",
       "356    0.517224\n",
       "296    0.495744\n",
       "Name: count, dtype: float64"
      ]
     },
     "execution_count": 24,
     "metadata": {},
     "output_type": "execute_result"
    }
   ],
   "source": [
    "\n",
    "movieId = 1 #just hard code for trial. asuming you liked this particular movie(M1) with this movieID.\n",
    "\n",
    "# identify similar users who liked your movie (M1)\n",
    "similar_users = ratings_df[(ratings_df.movieId == movieId) & (ratings_df.rating >= 4)][\"userId\"].unique()\n",
    "\n",
    "# Identifying list of movies liked by similar people.(recommended movies list)\n",
    "similar_user_recs = ratings_df[(ratings_df.rating >=4)&(ratings_df.userId.isin(similar_users))][\"movieId\"]\n",
    "\n",
    "# calculating the Confidence(percentage of like minded people also liked other recommended movies(M2)) i.e. confidence(m1->m2)\n",
    "confidence_movie_recs = similar_user_recs.value_counts()/len(similar_users)\n",
    "\n",
    "# tune the confidence(m1 ->m2) = 10% ~ 30% and filter out best relevant movie m2 results.\n",
    "confidence = 0.1\n",
    "confidence_movie_recs = confidence_movie_recs[(confidence_movie_recs > confidence)] \n",
    "\n",
    "confidence_movie_recs.head(5)"
   ]
  },
  {
   "cell_type": "code",
   "execution_count": 25,
   "metadata": {},
   "outputs": [
    {
     "data": {
      "text/plain": [
       "movieId\n",
       "318     0.433823\n",
       "296     0.384002\n",
       "356     0.362216\n",
       "593     0.356642\n",
       "2571    0.342941\n",
       "Name: count, dtype: float64"
      ]
     },
     "execution_count": 25,
     "metadata": {},
     "output_type": "execute_result"
    }
   ],
   "source": [
    "# identifying support of each movie recs()\n",
    "all_users = ratings_df[(ratings_df.movieId.isin(confidence_movie_recs.index)&(ratings_df.rating >= 4))][\"movieId\"]\n",
    "support_movie_recs = all_users.value_counts()/len(ratings_df.userId.unique())\n",
    "support_movie_recs.head(5)"
   ]
  },
  {
   "cell_type": "code",
   "execution_count": 26,
   "metadata": {},
   "outputs": [
    {
     "data": {
      "text/plain": [
       "movieId\n",
       "1        4.310403\n",
       "3114     3.264452\n",
       "78499    2.847179\n",
       "2355     2.811184\n",
       "2081     2.599146\n",
       "Name: count, dtype: float64"
      ]
     },
     "execution_count": 26,
     "metadata": {},
     "output_type": "execute_result"
    }
   ],
   "source": [
    "# calculating lift for each movie recommendation\n",
    "lift_movie_recs =confidence_movie_recs/support_movie_recs\n",
    "\n",
    "# filtering out best recommendation by tuning lift threshold value greater than 1\n",
    "lift = 2\n",
    "best_movie_recs = lift_movie_recs[lift_movie_recs >= lift]\n",
    "\n",
    "# sort the list by descinding order lift value and gather top n movies\n",
    "top_n = 10\n",
    "best_movie_recs = best_movie_recs.sort_values(ascending=False)[:top_n]\n",
    "\n",
    "best_movie_recs.head(5)"
   ]
  },
  {
   "cell_type": "code",
   "execution_count": 27,
   "metadata": {},
   "outputs": [
    {
     "data": {
      "text/html": [
       "<div>\n",
       "<style scoped>\n",
       "    .dataframe tbody tr th:only-of-type {\n",
       "        vertical-align: middle;\n",
       "    }\n",
       "\n",
       "    .dataframe tbody tr th {\n",
       "        vertical-align: top;\n",
       "    }\n",
       "\n",
       "    .dataframe thead th {\n",
       "        text-align: right;\n",
       "    }\n",
       "</style>\n",
       "<table border=\"1\" class=\"dataframe\">\n",
       "  <thead>\n",
       "    <tr style=\"text-align: right;\">\n",
       "      <th></th>\n",
       "      <th>movieId</th>\n",
       "      <th>title</th>\n",
       "      <th>genres</th>\n",
       "      <th>title_clean</th>\n",
       "    </tr>\n",
       "  </thead>\n",
       "  <tbody>\n",
       "    <tr>\n",
       "      <th>0</th>\n",
       "      <td>1</td>\n",
       "      <td>Toy Story (1995)</td>\n",
       "      <td>Adventure|Animation|Children|Comedy|Fantasy</td>\n",
       "      <td>Toy Story 1995</td>\n",
       "    </tr>\n",
       "    <tr>\n",
       "      <th>1005</th>\n",
       "      <td>1028</td>\n",
       "      <td>Mary Poppins (1964)</td>\n",
       "      <td>Children|Comedy|Fantasy|Musical</td>\n",
       "      <td>Mary Poppins 1964</td>\n",
       "    </tr>\n",
       "    <tr>\n",
       "      <th>1047</th>\n",
       "      <td>1073</td>\n",
       "      <td>Willy Wonka &amp; the Chocolate Factory (1971)</td>\n",
       "      <td>Children|Comedy|Fantasy|Musical</td>\n",
       "      <td>Willy Wonka  the Chocolate Factory 1971</td>\n",
       "    </tr>\n",
       "    <tr>\n",
       "      <th>1249</th>\n",
       "      <td>1282</td>\n",
       "      <td>Fantasia (1940)</td>\n",
       "      <td>Animation|Children|Fantasy|Musical</td>\n",
       "      <td>Fantasia 1940</td>\n",
       "    </tr>\n",
       "    <tr>\n",
       "      <th>1818</th>\n",
       "      <td>1907</td>\n",
       "      <td>Mulan (1998)</td>\n",
       "      <td>Adventure|Animation|Children|Comedy|Drama|Musi...</td>\n",
       "      <td>Mulan 1998</td>\n",
       "    </tr>\n",
       "    <tr>\n",
       "      <th>1992</th>\n",
       "      <td>2081</td>\n",
       "      <td>Little Mermaid, The (1989)</td>\n",
       "      <td>Animation|Children|Comedy|Musical|Romance</td>\n",
       "      <td>Little Mermaid The 1989</td>\n",
       "    </tr>\n",
       "    <tr>\n",
       "      <th>2264</th>\n",
       "      <td>2355</td>\n",
       "      <td>Bug's Life, A (1998)</td>\n",
       "      <td>Adventure|Animation|Children|Comedy</td>\n",
       "      <td>Bugs Life A 1998</td>\n",
       "    </tr>\n",
       "    <tr>\n",
       "      <th>2669</th>\n",
       "      <td>2761</td>\n",
       "      <td>Iron Giant, The (1999)</td>\n",
       "      <td>Adventure|Animation|Children|Drama|Sci-Fi</td>\n",
       "      <td>Iron Giant The 1999</td>\n",
       "    </tr>\n",
       "    <tr>\n",
       "      <th>3021</th>\n",
       "      <td>3114</td>\n",
       "      <td>Toy Story 2 (1999)</td>\n",
       "      <td>Adventure|Animation|Children|Comedy|Fantasy</td>\n",
       "      <td>Toy Story 2 1999</td>\n",
       "    </tr>\n",
       "    <tr>\n",
       "      <th>14813</th>\n",
       "      <td>78499</td>\n",
       "      <td>Toy Story 3 (2010)</td>\n",
       "      <td>Adventure|Animation|Children|Comedy|Fantasy|IMAX</td>\n",
       "      <td>Toy Story 3 2010</td>\n",
       "    </tr>\n",
       "  </tbody>\n",
       "</table>\n",
       "</div>"
      ],
      "text/plain": [
       "       movieId                                       title  \\\n",
       "0            1                            Toy Story (1995)   \n",
       "1005      1028                         Mary Poppins (1964)   \n",
       "1047      1073  Willy Wonka & the Chocolate Factory (1971)   \n",
       "1249      1282                             Fantasia (1940)   \n",
       "1818      1907                                Mulan (1998)   \n",
       "1992      2081                  Little Mermaid, The (1989)   \n",
       "2264      2355                        Bug's Life, A (1998)   \n",
       "2669      2761                      Iron Giant, The (1999)   \n",
       "3021      3114                          Toy Story 2 (1999)   \n",
       "14813    78499                          Toy Story 3 (2010)   \n",
       "\n",
       "                                                  genres  \\\n",
       "0            Adventure|Animation|Children|Comedy|Fantasy   \n",
       "1005                     Children|Comedy|Fantasy|Musical   \n",
       "1047                     Children|Comedy|Fantasy|Musical   \n",
       "1249                  Animation|Children|Fantasy|Musical   \n",
       "1818   Adventure|Animation|Children|Comedy|Drama|Musi...   \n",
       "1992           Animation|Children|Comedy|Musical|Romance   \n",
       "2264                 Adventure|Animation|Children|Comedy   \n",
       "2669           Adventure|Animation|Children|Drama|Sci-Fi   \n",
       "3021         Adventure|Animation|Children|Comedy|Fantasy   \n",
       "14813   Adventure|Animation|Children|Comedy|Fantasy|IMAX   \n",
       "\n",
       "                                   title_clean  \n",
       "0                               Toy Story 1995  \n",
       "1005                         Mary Poppins 1964  \n",
       "1047   Willy Wonka  the Chocolate Factory 1971  \n",
       "1249                             Fantasia 1940  \n",
       "1818                                Mulan 1998  \n",
       "1992                   Little Mermaid The 1989  \n",
       "2264                          Bugs Life A 1998  \n",
       "2669                       Iron Giant The 1999  \n",
       "3021                          Toy Story 2 1999  \n",
       "14813                         Toy Story 3 2010  "
      ]
     },
     "execution_count": 27,
     "metadata": {},
     "output_type": "execute_result"
    }
   ],
   "source": [
    "# Show the recommended movies details\n",
    "movies_df[movies_df.movieId.isin(best_movie_recs.index)]"
   ]
  },
  {
   "cell_type": "code",
   "execution_count": 28,
   "metadata": {},
   "outputs": [
    {
     "data": {
      "text/html": [
       "<div>\n",
       "<style scoped>\n",
       "    .dataframe tbody tr th:only-of-type {\n",
       "        vertical-align: middle;\n",
       "    }\n",
       "\n",
       "    .dataframe tbody tr th {\n",
       "        vertical-align: top;\n",
       "    }\n",
       "\n",
       "    .dataframe thead th {\n",
       "        text-align: right;\n",
       "    }\n",
       "</style>\n",
       "<table border=\"1\" class=\"dataframe\">\n",
       "  <thead>\n",
       "    <tr style=\"text-align: right;\">\n",
       "      <th></th>\n",
       "      <th>title</th>\n",
       "      <th>genres</th>\n",
       "    </tr>\n",
       "  </thead>\n",
       "  <tbody>\n",
       "    <tr>\n",
       "      <th>2</th>\n",
       "      <td>Grumpier Old Men (1995)</td>\n",
       "      <td>Comedy|Romance</td>\n",
       "    </tr>\n",
       "    <tr>\n",
       "      <th>4</th>\n",
       "      <td>Father of the Bride Part II (1995)</td>\n",
       "      <td>Comedy</td>\n",
       "    </tr>\n",
       "    <tr>\n",
       "      <th>73</th>\n",
       "      <td>Bed of Roses (1996)</td>\n",
       "      <td>Drama|Romance</td>\n",
       "    </tr>\n",
       "    <tr>\n",
       "      <th>78</th>\n",
       "      <td>Juror, The (1996)</td>\n",
       "      <td>Drama|Thriller</td>\n",
       "    </tr>\n",
       "    <tr>\n",
       "      <th>133</th>\n",
       "      <td>Down Periscope (1996)</td>\n",
       "      <td>Comedy</td>\n",
       "    </tr>\n",
       "    <tr>\n",
       "      <th>138</th>\n",
       "      <td>Up Close and Personal (1996)</td>\n",
       "      <td>Drama|Romance</td>\n",
       "    </tr>\n",
       "    <tr>\n",
       "      <th>184</th>\n",
       "      <td>Nine Months (1995)</td>\n",
       "      <td>Comedy|Romance</td>\n",
       "    </tr>\n",
       "    <tr>\n",
       "      <th>627</th>\n",
       "      <td>Sgt. Bilko (1996)</td>\n",
       "      <td>Comedy</td>\n",
       "    </tr>\n",
       "    <tr>\n",
       "      <th>704</th>\n",
       "      <td>Multiplicity (1996)</td>\n",
       "      <td>Comedy</td>\n",
       "    </tr>\n",
       "    <tr>\n",
       "      <th>812</th>\n",
       "      <td>First Wives Club, The (1996)</td>\n",
       "      <td>Comedy</td>\n",
       "    </tr>\n",
       "  </tbody>\n",
       "</table>\n",
       "</div>"
      ],
      "text/plain": [
       "                                  title          genres\n",
       "2               Grumpier Old Men (1995)  Comedy|Romance\n",
       "4    Father of the Bride Part II (1995)          Comedy\n",
       "73                  Bed of Roses (1996)   Drama|Romance\n",
       "78                    Juror, The (1996)  Drama|Thriller\n",
       "133               Down Periscope (1996)          Comedy\n",
       "138        Up Close and Personal (1996)   Drama|Romance\n",
       "184                  Nine Months (1995)  Comedy|Romance\n",
       "627                   Sgt. Bilko (1996)          Comedy\n",
       "704                 Multiplicity (1996)          Comedy\n",
       "812        First Wives Club, The (1996)          Comedy"
      ]
     },
     "execution_count": 28,
     "metadata": {},
     "output_type": "execute_result"
    }
   ],
   "source": [
    "# Functionising the whole process from entering the movie ID  to gettig the recommended movies df\n",
    "\n",
    "def get_movie_recs(movieId,confidence=0.1,lift=2,top_n = 10):\n",
    "\n",
    "    # identify similar users liked your movie (M1)\n",
    "    similar_users = ratings_df[(ratings_df.movieId == movieId) & (ratings_df.rating >= 4)][\"userId\"].unique()\n",
    "\n",
    "    # Identifying movies liked by similar people(recommended movies list)\n",
    "    similar_user_recs = ratings_df[(ratings_df.rating >=4)&(ratings_df.userId.isin(similar_users))][\"movieId\"]\n",
    "\n",
    "    # calculating the Confidence(percentage of like minded people also liked other recommended movies(M2)) i.e. confidence(m1->m2)\n",
    "    confidence_movie_recs = similar_user_recs.value_counts()/len(similar_users)\n",
    "\n",
    "    # tune the confidence(m1 ->m2) = 10% ~ 30% and filter out best relevant movie m2 results.\n",
    "    confidence_movie_recs = confidence_movie_recs[(confidence_movie_recs > confidence)] \n",
    "    \n",
    "    # identifying support of each movie recs()\n",
    "    all_users = ratings_df[(ratings_df.movieId.isin(confidence_movie_recs.index)&(ratings_df.rating >= 4))][\"movieId\"]\n",
    "    support_movie_recs = all_users.value_counts()/len(ratings_df.userId.unique())\n",
    "\n",
    "    # calculating lift for each movie recommendation\n",
    "    lift_movie_recs =confidence_movie_recs/support_movie_recs\n",
    "\n",
    "    # filtering out best recommendation by tuning lift threshold value greater than 1\n",
    "    best_movie_recs = lift_movie_recs[lift_movie_recs >= lift]\n",
    "\n",
    "    # sort the list by descinding order lift value\n",
    "    best_movie_recs = best_movie_recs.sort_values(ascending=False)[:top_n]\n",
    "\n",
    "    # return the recommended movies details\n",
    "    return movies_df[movies_df.movieId.isin(best_movie_recs.index)][[\"title\",\"genres\"]]\n",
    "\n",
    "\n",
    "# test the function with random movieId\n",
    "movieId = 5\n",
    "get_movie_recs(movieId)"
   ]
  },
  {
   "cell_type": "markdown",
   "metadata": {},
   "source": [
    "## Creating a Ipython Widgets to take input and get output of movie search and its recommendations"
   ]
  },
  {
   "cell_type": "code",
   "execution_count": 29,
   "metadata": {},
   "outputs": [
    {
     "data": {
      "application/vnd.jupyter.widget-view+json": {
       "model_id": "df113b5a1e8a4b808820f91f6a84b603",
       "version_major": 2,
       "version_minor": 0
      },
      "text/plain": [
       "Text(value='Toy Story', description='Movie Title: ')"
      ]
     },
     "metadata": {},
     "output_type": "display_data"
    },
    {
     "data": {
      "application/vnd.jupyter.widget-view+json": {
       "model_id": "47f6af9cf8fb48ef86444c83854ada1a",
       "version_major": 2,
       "version_minor": 0
      },
      "text/plain": [
       "Output()"
      ]
     },
     "metadata": {},
     "output_type": "display_data"
    }
   ],
   "source": [
    "from ipywidgets import widgets\n",
    "from IPython.display import display\n",
    "\n",
    "movie_input = widgets.Text(\n",
    "    value = \"Toy Story\",\n",
    "    description = \"Movie Title: \",\n",
    "    disabled = False\n",
    ")\n",
    "movie_list = widgets.Output()\n",
    "\n",
    "def on_type(data):\n",
    "    with movie_list:\n",
    "        movie_list.clear_output()\n",
    "        title = data[\"new\"]\n",
    "        if len(title)>3:\n",
    "            movie_df = search_movie(title)\n",
    "            movie_name = movie_df[\"title\"].values[0]\n",
    "            movieId = movie_df[\"movieId\"].values[0]\n",
    "            display(print(f\"the recommended movies for {movie_name} is shown below: \"),get_movie_recs(movieId))\n",
    "movie_input.observe(on_type,names = \"value\")\n",
    "display(movie_input,movie_list)\n",
    "\n",
    "\n"
   ]
  },
  {
   "cell_type": "markdown",
   "metadata": {},
   "source": [
    "Observation:  \n",
    "As you can see, the search string identifies the best possible match from our movie database and records the corresponding movie ID. Based on this movie ID, the system generates recommendations and displays them in the widget below.\n",
    "\n",
    "By default, I have set the recommendation sensitivity parameters as follows:  \n",
    "Confidence: 0.1  \n",
    "Lift: 2  \n",
    "\n",
    "We can try increasing the lift and confidence if we want our recommended movies to have a very high chance of being liked by the user, although this may result in fewer recommendations.\n",
    "\n",
    "Based on my testing, this configuration is successful in identifying at least one or more movie recommendations for almost 41,000 movies out of a total of 62,000 movies in the database.\n"
   ]
  }
 ],
 "metadata": {
  "kernelspec": {
   "display_name": "base",
   "language": "python",
   "name": "python3"
  },
  "language_info": {
   "codemirror_mode": {
    "name": "ipython",
    "version": 3
   },
   "file_extension": ".py",
   "mimetype": "text/x-python",
   "name": "python",
   "nbconvert_exporter": "python",
   "pygments_lexer": "ipython3",
   "version": "3.11.5"
  }
 },
 "nbformat": 4,
 "nbformat_minor": 2
}
